{
  "nbformat": 4,
  "nbformat_minor": 0,
  "metadata": {
    "colab": {
      "name": "CrossRegressionForMultiViewFeatureExtraction.ipynb",
      "provenance": [],
      "collapsed_sections": []
    },
    "kernelspec": {
      "name": "python3",
      "display_name": "Python 3"
    },
    "accelerator": "TPU"
  },
  "cells": [
    {
      "cell_type": "code",
      "metadata": {
        "id": "mvF2lxDLXmUs"
      },
      "source": [
        "from PIL import Image\r\n",
        "import numpy as np"
      ],
      "execution_count": null,
      "outputs": []
    },
    {
      "cell_type": "code",
      "metadata": {
        "id": "G6KBQhevgpEh",
        "colab": {
          "base_uri": "https://localhost:8080/"
        },
        "outputId": "3d543081-4927-4992-a52a-d92faf3ec73d"
      },
      "source": [
        "'''\r\n",
        "So basically,\r\n",
        "A = 8 i.e. 8 diff views in 8 rows\r\n",
        "n = 10 i.e. 10 different objects corresponding to a view\r\n",
        "'''\r\n",
        "X = np.zeros((11,32,32))\r\n",
        "for view in range(8):\r\n",
        "  #initialize current view with a 32x32 matrix\r\n",
        "  curr_view = np.zeros((32,32))\r\n",
        "  \r\n",
        "  for object in range(1,11):\r\n",
        "    \r\n",
        "    img = np.array(Image.open('obj'+str(object)+'__'+str(view)+'.png'))\r\n",
        "    # print('image', img.shape)\r\n",
        "    curr_view = np.append(curr_view, img, axis = 0)\r\n",
        "\r\n",
        "  # print(curr_view.shape)\r\n",
        "  # now curr_view is in 11 128x128 matrix form\r\n",
        "  curr_view = np.reshape(curr_view, (11,32,32))\r\n",
        "  curr_view = curr_view[1:]\r\n",
        "  # print(curr_view.shape)\r\n",
        "\r\n",
        "  X = np.append(X, curr_view, axis = 0)\r\n",
        "print(X.shape)\r\n",
        "X = X[11:]\r\n",
        "X = np.reshape(X, (8,10,32,32))"
      ],
      "execution_count": null,
      "outputs": [
        {
          "output_type": "stream",
          "text": [
            "(91, 32, 32)\n"
          ],
          "name": "stdout"
        }
      ]
    },
    {
      "cell_type": "code",
      "metadata": {
        "id": "SRTTyoz_kBSX",
        "colab": {
          "base_uri": "https://localhost:8080/"
        },
        "outputId": "d863be11-3778-4c4a-d42d-7e20e3a6590e"
      },
      "source": [
        "X.shape"
      ],
      "execution_count": null,
      "outputs": [
        {
          "output_type": "execute_result",
          "data": {
            "text/plain": [
              "(8, 10, 32, 32)"
            ]
          },
          "metadata": {
            "tags": []
          },
          "execution_count": 6
        }
      ]
    },
    {
      "cell_type": "markdown",
      "metadata": {
        "id": "eR24erU_-kZu"
      },
      "source": [
        "Compute O:"
      ]
    },
    {
      "cell_type": "code",
      "metadata": {
        "id": "iVNkLqbvl_am"
      },
      "source": [
        ""
      ],
      "execution_count": null,
      "outputs": []
    },
    {
      "cell_type": "code",
      "metadata": {
        "id": "x2RdpjMx9T1B",
        "colab": {
          "base_uri": "https://localhost:8080/"
        },
        "outputId": "5d9d8596-6444-4844-e7bf-ccba9f965d6b"
      },
      "source": [
        "# first calculate L\r\n",
        "# print(X[0].shape) # -> (10, 32, 32)\r\n",
        "# first convert to 2D matrix for matrix multiplication in L\r\n",
        "\r\n",
        "#32x32 = 10245\r\n",
        "X_2d =  np.zeros((10,1024))\r\n",
        "for view in range(8):\r\n",
        "  temp = np.reshape(X[view], (10,1024))\r\n",
        "  X_2d = np.append(X_2d, temp, axis = 0)\r\n",
        "\r\n",
        "\r\n",
        "# removing the first zero matrix\r\n",
        "X_2d = X_2d[10:]\r\n",
        "\r\n",
        "X_2d = np.reshape(X_2d, (8,10,1024))\r\n",
        "print(X_2d.shape)\r\n",
        "print(X_2d[0].shape) "
      ],
      "execution_count": null,
      "outputs": [
        {
          "output_type": "stream",
          "text": [
            "(8, 10, 1024)\n",
            "(10, 1024)\n"
          ],
          "name": "stdout"
        }
      ]
    },
    {
      "cell_type": "code",
      "metadata": {
        "colab": {
          "base_uri": "https://localhost:8080/"
        },
        "id": "mUfikYeoR4s5",
        "outputId": "6857f884-4f3e-4d47-a83a-c099dce3c176"
      },
      "source": [
        "# now rows of X_2d will be used as 2d matrix for matrix multiplication in \r\n",
        "# caculating L\r\n",
        "\r\n",
        "# first initialize L as follows:\r\n",
        "L = np.zeros((8, 1024,1024))\r\n",
        "for view in range(8):\r\n",
        "  L = np.append(L, np.zeros((8, 1024,1024)), axis = 0)\r\n",
        "L = L[8:]\r\n",
        "L = np.reshape(L, (8,8,1024,1024))\r\n",
        "print(L.shape)\r\n",
        "\r\n",
        "#sparse matrix api"
      ],
      "execution_count": null,
      "outputs": [
        {
          "output_type": "stream",
          "text": [
            "(8, 8, 1024, 1024)\n"
          ],
          "name": "stdout"
        }
      ]
    },
    {
      "cell_type": "code",
      "metadata": {
        "id": "iauIX4ggd7tU"
      },
      "source": [
        "test = np.array([i for i in range(40)])\r\n",
        "test = np.reshape(test, (2,20))"
      ],
      "execution_count": null,
      "outputs": []
    },
    {
      "cell_type": "code",
      "metadata": {
        "colab": {
          "base_uri": "https://localhost:8080/"
        },
        "id": "qiRgoBmReDaO",
        "outputId": "94146d9f-8b5a-43f9-940a-5ac8d199162e"
      },
      "source": [
        "test"
      ],
      "execution_count": null,
      "outputs": [
        {
          "output_type": "execute_result",
          "data": {
            "text/plain": [
              "array([[ 0,  1,  2,  3,  4,  5,  6,  7,  8,  9, 10, 11, 12, 13, 14, 15,\n",
              "        16, 17, 18, 19],\n",
              "       [20, 21, 22, 23, 24, 25, 26, 27, 28, 29, 30, 31, 32, 33, 34, 35,\n",
              "        36, 37, 38, 39]])"
            ]
          },
          "metadata": {
            "tags": []
          },
          "execution_count": 36
        }
      ]
    },
    {
      "cell_type": "code",
      "metadata": {
        "colab": {
          "base_uri": "https://localhost:8080/"
        },
        "id": "S5pd4rd8eYIZ",
        "outputId": "8b44ab54-0321-431f-eabe-e96659dd0729"
      },
      "source": [
        "test[1][1][1]"
      ],
      "execution_count": null,
      "outputs": [
        {
          "output_type": "execute_result",
          "data": {
            "text/plain": [
              "array([35, 36, 37, 38, 39])"
            ]
          },
          "metadata": {
            "tags": []
          },
          "execution_count": 27
        }
      ]
    },
    {
      "cell_type": "code",
      "metadata": {
        "colab": {
          "base_uri": "https://localhost:8080/"
        },
        "id": "OehY5s7actL9",
        "outputId": "dedaec04-a0ab-44e7-dfb4-d383512c280c"
      },
      "source": [
        "'''\r\n",
        "Now calculate X1.X1' ..... XA.XA' and put it in L\r\n",
        "shape of L = (8, 8, 1024, 1024)\r\n",
        "\r\n",
        "first view position = L[0][0]\r\n",
        "second view position = L[1][1]\r\n",
        "... upto A\r\n",
        "\r\n",
        "So substitute a 1024x1024 matrix\r\n",
        "'''\r\n",
        "for view in range(8):\r\n",
        "\r\n",
        "  # dimension of Xa -> (10, 1024)\r\n",
        "  Xa = X_2d[view]\r\n",
        "  # dimension of Xa' -> (1024, 10)\r\n",
        "  Xa_t = np.transpose(Xa)\r\n",
        "\r\n",
        "  # d_element -> multiply Xa and Xa'\r\n",
        "  d_element = np.matmul(Xa_t, Xa)\r\n",
        "  L[view][view] = d_element\r\n",
        "\r\n",
        "\r\n",
        "L = np.reshape(L,(1024*8, 1024*8))\r\n",
        "print(L.shape)"
      ],
      "execution_count": null,
      "outputs": [
        {
          "output_type": "stream",
          "text": [
            "(8192, 8192)\n"
          ],
          "name": "stdout"
        }
      ]
    },
    {
      "cell_type": "code",
      "metadata": {
        "id": "yzd6WZjLzg5r"
      },
      "source": [
        "'''\r\n",
        "Let gamma be 0.9\r\n",
        "\r\n",
        "Now calculate the term 1 in the multiplication\r\n",
        "'''\r\n",
        "gamma = 0.9\r\n",
        "I = np.identity(8192)\r\n",
        "\r\n",
        "term1 = np.add(L, gamma*I)\r\n",
        "\r\n",
        "#finally take inverse\r\n",
        "term1 = np.linalg.inv(term1)"
      ],
      "execution_count": null,
      "outputs": []
    },
    {
      "cell_type": "code",
      "metadata": {
        "colab": {
          "base_uri": "https://localhost:8080/"
        },
        "id": "rOXjwSUk2GGw",
        "outputId": "1485b468-fc19-4deb-e8f4-b777265edca5"
      },
      "source": [
        "term1.shape"
      ],
      "execution_count": null,
      "outputs": [
        {
          "output_type": "execute_result",
          "data": {
            "text/plain": [
              "(8192, 8192)"
            ]
          },
          "metadata": {
            "tags": []
          },
          "execution_count": 49
        }
      ]
    },
    {
      "cell_type": "code",
      "metadata": {
        "colab": {
          "base_uri": "https://localhost:8080/"
        },
        "id": "_RTrgV44opfK",
        "outputId": "6a38ad85-cee9-43ad-ce6d-fa46b56bd1ac"
      },
      "source": [
        "'''\r\n",
        "Calculate term 2 of O\r\n",
        "\r\n",
        "Dimensions would be as follows:\r\n",
        "\r\n",
        "Xa = 10 x 1024\r\n",
        "Xa' = 1024 x 10\r\n",
        "X = (8,10,1024) -> (10,1024*8) -> (10, 8192)\r\n",
        "\r\n",
        "Multiplication of above three terms = 10 x 1024\r\n",
        "\r\n",
        "On multiplication with outer X', finally we get 1024 x 1024 matrix\r\n",
        "'''\r\n",
        "sum = np.zeros((10,8192))\r\n",
        "\r\n",
        "#calculating the summation\r\n",
        "for view in range(8):\r\n",
        "  \r\n",
        "  # dimension of Xa -> (10, 1024)\r\n",
        "  Xa = X_2d[view]\r\n",
        "\r\n",
        "  # dimension of Xa' -> (1024, 10)\r\n",
        "  Xa_t = np.transpose(Xa)\r\n",
        "\r\n",
        "  X_sum = np.reshape(X_2d, (10,8192))\r\n",
        "  \r\n",
        "  sum = np.add(sum,np.matmul(np.matmul(Xa,Xa_t),X_sum))\r\n",
        "\r\n",
        "temp_X2d = np.reshape(X_2d, (10,8192))\r\n",
        "\r\n",
        "#calculating the term 2\r\n",
        "term2 = np.matmul(np.transpose(temp_X2d), sum)\r\n",
        "print(term2.shape)"
      ],
      "execution_count": null,
      "outputs": [
        {
          "output_type": "stream",
          "text": [
            "(8192, 8192)\n"
          ],
          "name": "stdout"
        }
      ]
    },
    {
      "cell_type": "code",
      "metadata": {
        "id": "gKSv6ztt-4-r"
      },
      "source": [
        "O = np.matmul(term1, term2)"
      ],
      "execution_count": null,
      "outputs": []
    },
    {
      "cell_type": "code",
      "metadata": {
        "colab": {
          "base_uri": "https://localhost:8080/"
        },
        "id": "7Ei1EUhY_Au8",
        "outputId": "330aa9b0-a4c2-4158-cf75-c85a2f8b1319"
      },
      "source": [
        "O.shape"
      ],
      "execution_count": null,
      "outputs": [
        {
          "output_type": "execute_result",
          "data": {
            "text/plain": [
              "(8192, 8192)"
            ]
          },
          "metadata": {
            "tags": []
          },
          "execution_count": 57
        }
      ]
    },
    {
      "cell_type": "code",
      "metadata": {
        "colab": {
          "base_uri": "https://localhost:8080/"
        },
        "id": "xI4jUkyL_CKd",
        "outputId": "0e642089-21f4-4f66-a0d5-badcd5b62224"
      },
      "source": [
        "O"
      ],
      "execution_count": null,
      "outputs": [
        {
          "output_type": "execute_result",
          "data": {
            "text/plain": [
              "array([[ 1.66745020e+23,  1.66745020e+23,  1.66745020e+23, ...,\n",
              "         3.67001059e+23,  3.67001059e+23,  3.67001059e+23],\n",
              "       [-6.17270414e+22, -6.17270414e+22, -6.17270414e+22, ...,\n",
              "        -1.34483520e+23, -1.34483520e+23, -1.34483520e+23],\n",
              "       [ 5.48377964e+23,  5.48377964e+23,  5.48377964e+23, ...,\n",
              "         1.20433882e+24,  1.20433882e+24,  1.20433882e+24],\n",
              "       ...,\n",
              "       [-7.18348498e+23, -7.18348498e+23, -7.18348498e+23, ...,\n",
              "        -1.56901194e+24, -1.56901194e+24, -1.56901194e+24],\n",
              "       [ 6.93932227e+23,  6.93932227e+23,  6.93932227e+23, ...,\n",
              "         1.51895220e+24,  1.51895220e+24,  1.51895220e+24],\n",
              "       [ 1.78150285e+23,  1.78150285e+23,  1.78150285e+23, ...,\n",
              "         3.88444236e+23,  3.88444236e+23,  3.88444236e+23]])"
            ]
          },
          "metadata": {
            "tags": []
          },
          "execution_count": 58
        }
      ]
    }
  ]
}