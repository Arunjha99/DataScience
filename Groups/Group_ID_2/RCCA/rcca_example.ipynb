{
 "cells": [
  {
   "cell_type": "markdown",
   "metadata": {},
   "source": [
    "## Why regularized CCA is needed?\n",
    "Regularized CCA is needed inplace of CCA when there are 2 views of the data and the number of samples are finite as compared to the number of features in either of the views."
   ]
  },
  {
   "cell_type": "code",
   "execution_count": 12,
   "metadata": {},
   "outputs": [],
   "source": [
    "import numpy as np"
   ]
  },
  {
   "cell_type": "code",
   "execution_count": 13,
   "metadata": {},
   "outputs": [],
   "source": [
    "samples = 6\n",
    "\n",
    "latvar1 = np.random.randn(samples,)\n",
    "latvar2 = np.random.randn(samples,)\n",
    "\n",
    "indep1 = np.random.randn(samples, 7)\n",
    "indep2 = np.random.randn(samples, 8)\n",
    "\n",
    "# Create two datasets, with each dimension composed as a sum of 75% one of the latent variables and 25% independent component\n",
    "a = np.array((latvar1,latvar2,latvar1,latvar2,latvar1,latvar2,latvar1,latvar2,latvar1,latvar2,latvar1,latvar2,latvar1,latvar2))\n",
    "data1 = 0.25*indep1 + 0.75*np.vstack(a[:7]).T\n",
    "data2 = 0.25*indep2 + 0.75*np.vstack(a[:8]).T\n",
    "\n",
    "train1 = data1[:4]\n",
    "train2 = data2[:4]\n",
    "test1 = data1[4:]\n",
    "test2 = data2[4:]"
   ]
  },
  {
   "cell_type": "code",
   "execution_count": 14,
   "metadata": {},
   "outputs": [],
   "source": [
    "import rcca\n",
    "from sklearn.preprocessing import StandardScaler"
   ]
  },
  {
   "cell_type": "code",
   "execution_count": 15,
   "metadata": {},
   "outputs": [
    {
     "name": "stdout",
     "output_type": "stream",
     "text": [
      "[[-0.72616411 -1.09465342 -0.83486294 -0.74594287 -0.44173743 -1.35370751\n",
      "  -1.44399677]\n",
      " [ 1.10619009  1.62198266  0.70738313  1.4291668   1.10374839  1.16517865\n",
      "   0.77589611]\n",
      " [-1.08718659  0.55269356 -0.26636467  0.6160399  -1.14936629  0.29172956\n",
      "  -1.11744266]\n",
      " [ 0.07302111  0.55743761  0.09457326  0.65024627  0.22873065  0.82386078\n",
      "   0.31943011]]\n",
      "[[-0.83805559 -0.90587929 -0.98939598 -1.00142378 -0.96218901 -0.91641909\n",
      "  -1.09727994 -1.0181483 ]\n",
      " [ 0.98666932  0.88464573  1.81403892  0.54822069  0.84917476  0.78568102\n",
      "   0.57291968  0.30360778]\n",
      " [-0.59746003  0.0060637  -0.58799486 -0.14507019 -1.25073987  0.04398425\n",
      "  -0.6500493  -0.12880329]\n",
      " [ 0.59217356  0.68290409  0.00958009  0.7825918  -0.09696398  0.5475091\n",
      "   0.33683746  0.98728202]]\n"
     ]
    }
   ],
   "source": [
    "print(train1)\n",
    "print(train2)"
   ]
  },
  {
   "cell_type": "code",
   "execution_count": 16,
   "metadata": {},
   "outputs": [],
   "source": [
    "sc = StandardScaler()\n",
    "t1,t2 = sc.fit_transform(train1),sc.fit_transform(train2)"
   ]
  },
  {
   "cell_type": "code",
   "execution_count": 17,
   "metadata": {},
   "outputs": [
    {
     "name": "stdout",
     "output_type": "stream",
     "text": [
      "[[-0.67391964 -1.54819536 -1.35695821 -1.57551684 -0.45312978 -1.63984178\n",
      "  -1.15178275]\n",
      " [ 1.5015488   1.24823521  1.39651441  1.20309764  1.40404458  0.96542181\n",
      "   1.22121878]\n",
      " [-1.10254475  0.14753838 -0.34198113  0.16436097 -1.30347091  0.06202047\n",
      "  -0.80270582]\n",
      " [ 0.27491559  0.15242177  0.30242494  0.20805822  0.35255611  0.6123995\n",
      "   0.73326978]]\n",
      "[[-1.13330805 -1.53331638 -0.97998527 -1.50864538 -0.72838087 -1.57974697\n",
      "  -1.29069487 -1.44969387]\n",
      " [ 1.23310141  1.0257892   1.63414196  0.7231984   1.48157184  1.02675446\n",
      "   1.13722477  0.36804825]\n",
      " [-0.82128972 -0.22992303 -0.60568958 -0.27529961 -1.08042709 -0.10903872\n",
      "  -0.64056895 -0.22662411]\n",
      " [ 0.72149635  0.73745021 -0.0484671   1.06074659  0.32723613  0.66203123\n",
      "   0.79403905  1.30826973]]\n"
     ]
    }
   ],
   "source": [
    "print(t1)\n",
    "print(t2)"
   ]
  },
  {
   "cell_type": "code",
   "execution_count": 18,
   "metadata": {},
   "outputs": [
    {
     "name": "stdout",
     "output_type": "stream",
     "text": [
      "Training RCCA with regularization parameter = 0.6 and 2 components\n"
     ]
    },
    {
     "data": {
      "text/plain": [
       "<rcca.RCCA at 0x21f431d3308>"
      ]
     },
     "execution_count": 18,
     "metadata": {},
     "output_type": "execute_result"
    }
   ],
   "source": [
    "cca = rcca.RCCA(n_comp = 2,reg_param = 0.6)\n",
    "cca.fit([t1,t2])"
   ]
  },
  {
   "cell_type": "code",
   "execution_count": 19,
   "metadata": {},
   "outputs": [
    {
     "data": {
      "text/plain": [
       "[array([[-0.8659283 ,  0.61039765],\n",
       "        [ 0.92323521,  0.28466866],\n",
       "        [-0.35311979, -0.81557902],\n",
       "        [ 0.29581288, -0.0794873 ]]),\n",
       " array([[-0.87475415,  0.55043539],\n",
       "        [ 0.8618747 ,  0.43010532],\n",
       "        [-0.39346037, -0.56955951],\n",
       "        [ 0.40633983, -0.4109812 ]])]"
      ]
     },
     "execution_count": 19,
     "metadata": {},
     "output_type": "execute_result"
    }
   ],
   "source": [
    "cca.transform([t1,t2])"
   ]
  },
  {
   "cell_type": "code",
   "execution_count": 20,
   "metadata": {},
   "outputs": [
    {
     "data": {
      "text/plain": [
       "array([0.99515106, 0.9094706 ])"
      ]
     },
     "execution_count": 20,
     "metadata": {},
     "output_type": "execute_result"
    }
   ],
   "source": [
    "cca.variates "
   ]
  },
  {
   "cell_type": "code",
   "execution_count": 21,
   "metadata": {},
   "outputs": [
    {
     "data": {
      "text/plain": [
       "[array([[ 0.10009401,  0.31651832],\n",
       "        [ 0.08334018, -0.1019833 ],\n",
       "        [ 0.10321871,  0.00719266],\n",
       "        [ 0.08691663, -0.14046065],\n",
       "        [ 0.1015408 ,  0.34760041],\n",
       "        [ 0.11598686, -0.33139967],\n",
       "        [ 0.1356443 , -0.05933635]]),\n",
       " array([[ 0.09351357,  0.20454562],\n",
       "        [ 0.093828  , -0.20957072],\n",
       "        [ 0.14054833,  0.09802608],\n",
       "        [ 0.06237321, -0.16852906],\n",
       "        [ 0.10884123,  0.42698958],\n",
       "        [ 0.09815587, -0.28854462],\n",
       "        [ 0.09041389,  0.07199727],\n",
       "        [ 0.02899651, -0.17302547]])]"
      ]
     },
     "execution_count": 21,
     "metadata": {},
     "output_type": "execute_result"
    }
   ],
   "source": [
    "cca.weights"
   ]
  },
  {
   "cell_type": "code",
   "execution_count": 22,
   "metadata": {},
   "outputs": [
    {
     "data": {
      "text/plain": [
       "[array([[-0.8659283 ,  0.61039765],\n",
       "        [ 0.92323521,  0.28466866],\n",
       "        [-0.35311979, -0.81557902],\n",
       "        [ 0.29581288, -0.0794873 ]]),\n",
       " array([[-0.87475415,  0.55043539],\n",
       "        [ 0.8618747 ,  0.43010532],\n",
       "        [-0.39346037, -0.56955951],\n",
       "        [ 0.40633983, -0.4109812 ]])]"
      ]
     },
     "execution_count": 22,
     "metadata": {},
     "output_type": "execute_result"
    }
   ],
   "source": [
    "cca.c_comp"
   ]
  },
  {
   "cell_type": "code",
   "execution_count": null,
   "metadata": {},
   "outputs": [],
   "source": []
  },
  {
   "cell_type": "code",
   "execution_count": null,
   "metadata": {},
   "outputs": [],
   "source": []
  }
 ],
 "metadata": {
  "kernelspec": {
   "display_name": "Python 3",
   "language": "python",
   "name": "python3"
  },
  "language_info": {
   "codemirror_mode": {
    "name": "ipython",
    "version": 3
   },
   "file_extension": ".py",
   "mimetype": "text/x-python",
   "name": "python",
   "nbconvert_exporter": "python",
   "pygments_lexer": "ipython3",
   "version": "3.7.4"
  }
 },
 "nbformat": 4,
 "nbformat_minor": 4
}
