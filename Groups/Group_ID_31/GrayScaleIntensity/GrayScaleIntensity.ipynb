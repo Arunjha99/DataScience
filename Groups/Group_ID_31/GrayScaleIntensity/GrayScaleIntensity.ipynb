{
 "cells": [
  {
   "cell_type": "markdown",
   "metadata": {},
   "source": [
    "# Grayscale Intensity(Feature Extraction from Image)\n",
    "\n",
    "#### Package Name:-GrayScaleIntensity"
   ]
  },
  {
   "cell_type": "code",
   "execution_count": 1,
   "metadata": {},
   "outputs": [],
   "source": [
    "import pandas as pd\n",
    "import numpy as np\n",
    "from skimage.io import imread, imshow\n",
    "from GrayScaleIntensity import GrayScaleIntensity"
   ]
  },
  {
   "cell_type": "markdown",
   "metadata": {},
   "source": [
    " ### Parameters:\n",
    " \n",
    " image: it is a 3D Matrix having dimension M X N X 3.\n"
   ]
  },
  {
   "cell_type": "markdown",
   "metadata": {},
   "source": [
    "### Method:\n",
    "\n",
    "g_feature(image):\n",
    "\n",
    "method which returns the extracted feature from grayscale image.if image is not a grayscale image it convert image into gray scale image and do feature extraction and return feature vector."
   ]
  },
  {
   "cell_type": "markdown",
   "metadata": {},
   "source": [
    "### Example:"
   ]
  },
  {
   "cell_type": "code",
   "execution_count": 2,
   "metadata": {},
   "outputs": [
    {
     "name": "stdout",
     "output_type": "stream",
     "text": [
      "feature vector of Grayscale image\n",
      "[23.79280033 21.23384383 22.63675483 ... 48.77127933 48.16890767\n",
      " 47.42259067]\n"
     ]
    }
   ],
   "source": [
    "#reading color image using imread()\n",
    "image = imread(\"purple.jpg\")\n",
    "\n",
    "#make Object by calling GrayScaleIntensity\n",
    "gsi=GrayScaleIntensity()\n",
    "\n",
    "#passing image to g_feature to get grayscale feature vector\n",
    "f = gsi.g_feature(image)\n",
    "print(\"feature vector of Grayscale image\")\n",
    "\n",
    "#Outputted feature vector of grayscale image\n",
    "print(f)\n"
   ]
  },
  {
   "cell_type": "code",
   "execution_count": null,
   "metadata": {},
   "outputs": [],
   "source": []
  },
  {
   "cell_type": "code",
   "execution_count": null,
   "metadata": {},
   "outputs": [],
   "source": []
  }
 ],
 "metadata": {
  "kernelspec": {
   "display_name": "Python 3",
   "language": "python",
   "name": "python3"
  },
  "language_info": {
   "codemirror_mode": {
    "name": "ipython",
    "version": 3
   },
   "file_extension": ".py",
   "mimetype": "text/x-python",
   "name": "python",
   "nbconvert_exporter": "python",
   "pygments_lexer": "ipython3",
   "version": "3.8.3"
  }
 },
 "nbformat": 4,
 "nbformat_minor": 4
}
